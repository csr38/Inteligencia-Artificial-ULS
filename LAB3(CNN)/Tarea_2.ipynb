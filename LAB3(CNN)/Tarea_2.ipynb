{
  "cells": [
    {
      "cell_type": "markdown",
      "id": "a8ff0565-a98d-47d3-8438-08f733e16088",
      "metadata": {
        "id": "a8ff0565-a98d-47d3-8438-08f733e16088"
      },
      "source": [
        "#### Parte 3: Arquitectura de una CNN\n",
        "\n",
        "Una arquitectura típica de CNN consiste en capas alternadas de convolución y pooling, seguidas de capas completamente conectadas:\n"
      ]
    },
    {
      "cell_type": "markdown",
      "id": "c51424f0-9f16-4825-8830-8b648ee4eaa5",
      "metadata": {
        "id": "c51424f0-9f16-4825-8830-8b648ee4eaa5"
      },
      "source": [
        "\n",
        "\n",
        "- Una capa convolucional con 32 filtros, tamaño de kernel 3x3 y activación ReLU.\n",
        "- Una capa de max pooling con tamaño de pool 2x2.\n",
        "- Una segunda capa convolucional con 64 filtros, tamaño de kernel 3x3 y activación ReLU.\n",
        "- Una segunda capa de max pooling con tamaño de pool 2x2.\n",
        "- Una tercera capa convolucional con 64 filtros, tamaño de kernel 3x3 y activación ReLU.\n",
        "- Una capa completamente conectada con 64 unidades y activación ReLU.\n",
        "- Una capa de salida con 10 unidades y activación softmax (para una clasificación de 10 clases)."
      ]
    },
    {
      "cell_type": "markdown",
      "id": "5b08b434-2b0f-4ca8-b176-0f944c995633",
      "metadata": {
        "id": "5b08b434-2b0f-4ca8-b176-0f944c995633"
      },
      "source": [
        "\n",
        "\n",
        "### Explicación\n",
        "\n",
        "1. **Capas Convolucionales**:\n",
        "   - `self.conv1`: 32 filtros, tamaño de kernel 3x3, activación ReLU.\n",
        "   - `self.conv2`: 64 filtros, tamaño de kernel 3x3, activación ReLU.\n",
        "   - `self.conv3`: 64 filtros, tamaño de kernel 3x3, activación ReLU.\n",
        "\n",
        "2. **Capas de Pooling**:\n",
        "   - `self.pool1`: Max pooling con tamaño 2x2.\n",
        "   - `self.pool2`: Max pooling con tamaño 2x2.\n",
        "   - `self.pool3`: Max pooling con tamaño 2x2.\n",
        "\n",
        "3. **Capas Completamente Conectadas**:\n",
        "   - `self.fc1`: 64 unidades, activación ReLU.\n",
        "   - `self.fc2`: 10 unidades (para 10 clases de salida).\n",
        "\n",
        "4. **Aplanado**:\n",
        "   - `x = x.view(-1, 64 * 4 * 4)`: Aplanar las características antes de pasar a las capas completamente conectadas.\n",
        "\n",
        "### Uso del Modelo\n",
        "\n",
        "Para usar este modelo, puedes definir un conjunto de datos, un optimizador y un criterio de pérdida, y luego entrenar la red con tus datos."
      ]
    },
    {
      "cell_type": "code",
      "execution_count": 5,
      "id": "be08db9c-0575-4ee6-b5aa-2c5e3118931c",
      "metadata": {
        "colab": {
          "base_uri": "https://localhost:8080/"
        },
        "id": "be08db9c-0575-4ee6-b5aa-2c5e3118931c",
        "outputId": "6486a3b5-9dd3-4831-9746-965bd6aea5bb"
      },
      "outputs": [
        {
          "output_type": "stream",
          "name": "stdout",
          "text": [
            "CNN(\n",
            "  (conv1): Conv2d(3, 32, kernel_size=(3, 3), stride=(1, 1), padding=(1, 1))\n",
            "  (pool1): MaxPool2d(kernel_size=2, stride=2, padding=0, dilation=1, ceil_mode=False)\n",
            "  (conv2): Conv2d(32, 64, kernel_size=(3, 3), stride=(1, 1), padding=(1, 1))\n",
            "  (pool2): MaxPool2d(kernel_size=2, stride=2, padding=0, dilation=1, ceil_mode=False)\n",
            "  (conv3): Conv2d(64, 64, kernel_size=(3, 3), stride=(1, 1), padding=(1, 1))\n",
            "  (pool3): MaxPool2d(kernel_size=2, stride=2, padding=0, dilation=1, ceil_mode=False)\n",
            "  (fc1): Linear(in_features=1024, out_features=64, bias=True)\n",
            "  (fc2): Linear(in_features=64, out_features=10, bias=True)\n",
            ")\n"
          ]
        }
      ],
      "source": [
        "\n",
        "\n",
        "import torch\n",
        "import torch.nn as nn\n",
        "import torch.nn.functional as F\n",
        "\n",
        "class CNN(nn.Module):\n",
        "    def __init__(self):\n",
        "        super(CNN, self).__init__()\n",
        "        # Capa convolucional 1: 32 filtros, kernel 3x3, activación ReLU\n",
        "        self.conv1 = nn.Conv2d(in_channels=3, out_channels=32, kernel_size=3, padding=1)\n",
        "        # Capa de max pooling 1: tamaño del pool 2x2\n",
        "        self.pool1 = nn.MaxPool2d(kernel_size=2, stride=2)\n",
        "\n",
        "        # Capa convolucional 2: 64 filtros, kernel 3x3, activación ReLU\n",
        "        self.conv2 = nn.Conv2d(in_channels=32, out_channels=64, kernel_size=3, padding=1)\n",
        "        # Capa de max pooling 2: tamaño del pool 2x2\n",
        "        self.pool2 = nn.MaxPool2d(kernel_size=2, stride=2)\n",
        "\n",
        "        # Capa convolucional 3: 64 filtros, kernel 3x3, activación ReLU\n",
        "        self.conv3 = nn.Conv2d(in_channels=64, out_channels=64, kernel_size=3, padding=1)\n",
        "        # Capa de max pooling 3: tamaño del pool 2x2\n",
        "        self.pool3 = nn.MaxPool2d(kernel_size=2, stride=2)\n",
        "        # Capa completamente conectada: 64 unidades, activación ReLU\n",
        "        self.fc1 = nn.Linear(64 * 4 * 4, 64)\n",
        "        # Capa de salida: 10 unidades (para clasificación en 10 clases), activación softmax\n",
        "        self.fc2 = nn.Linear(64, 10)\n",
        "\n",
        "    def forward(self, x):\n",
        "        # Aplicar la primera capa convolucional seguida de ReLU y pooling\n",
        "        x = self.pool1(F.relu(self.conv1(x)))\n",
        "        # Aplicar la segunda capa convolucional seguida de ReLU y pooling\n",
        "        x = self.pool2(F.relu(self.conv2(x)))\n",
        "        # Aplicar la tercera capa convolucional seguida de ReLU y pooling\n",
        "        x = self.pool3(F.relu(self.conv3(x)))\n",
        "        # Aplanar las características para la capa completamente conectada\n",
        "        x = x.view(-1, 64 * 4 * 4)\n",
        "        # Aplicar la primera capa completamente conectada seguida de ReLU\n",
        "        x = F.relu(self.fc1(x))\n",
        "        # Aplicar la capa de salida\n",
        "        x = self.fc2(x)\n",
        "        return x\n",
        "\n",
        "# Crear una instancia de la red\n",
        "net = CNN()\n",
        "\n",
        "# Mostrar la arquitectura del modelo\n",
        "print(net)\n"
      ]
    },
    {
      "cell_type": "code",
      "execution_count": 6,
      "id": "5d755d35-d52a-4425-a76a-729e254d4f75",
      "metadata": {
        "colab": {
          "base_uri": "https://localhost:8080/"
        },
        "id": "5d755d35-d52a-4425-a76a-729e254d4f75",
        "outputId": "f5b5a980-15cf-41ce-e537-2e8fb5f86fa4"
      },
      "outputs": [
        {
          "output_type": "stream",
          "name": "stdout",
          "text": [
            "Files already downloaded and verified\n",
            "Files already downloaded and verified\n",
            "[Epoch 1, Mini-lote 2000] pérdida: 2.144\n",
            "[Epoch 1, Mini-lote 4000] pérdida: 1.738\n",
            "[Epoch 1, Mini-lote 6000] pérdida: 1.570\n",
            "[Epoch 1, Mini-lote 8000] pérdida: 1.448\n",
            "[Epoch 1, Mini-lote 10000] pérdida: 1.347\n",
            "[Epoch 1, Mini-lote 12000] pérdida: 1.284\n",
            "[Epoch 2, Mini-lote 2000] pérdida: 1.192\n",
            "[Epoch 2, Mini-lote 4000] pérdida: 1.131\n",
            "[Epoch 2, Mini-lote 6000] pérdida: 1.086\n",
            "[Epoch 2, Mini-lote 8000] pérdida: 1.053\n",
            "[Epoch 2, Mini-lote 10000] pérdida: 1.018\n",
            "[Epoch 2, Mini-lote 12000] pérdida: 0.991\n",
            "Entrenamiento terminado\n",
            "Precisión en el conjunto de prueba: 64.43 %\n"
          ]
        }
      ],
      "source": [
        "\n",
        "import torchvision\n",
        "import torchvision.transforms as transforms\n",
        "import torch.optim as optim\n",
        "\n",
        "# Definir transformaciones para los datos de entrenamiento y prueba\n",
        "transform = transforms.Compose(\n",
        "    [transforms.ToTensor(),\n",
        "     transforms.Normalize((0.5, 0.5, 0.5), (0.5, 0.5, 0.5))])\n",
        "\n",
        "# Descargar y cargar los datos de entrenamiento CIFAR-10\n",
        "trainset = torchvision.datasets.CIFAR10(root='./data', train=True,\n",
        "                                        download=True, transform=transform)\n",
        "trainloader = torch.utils.data.DataLoader(trainset, batch_size=4,\n",
        "                                          shuffle=True, num_workers=2)\n",
        "\n",
        "# Descargar y cargar los datos de prueba CIFAR-10\n",
        "testset = torchvision.datasets.CIFAR10(root='./data', train=False,\n",
        "                                       download=True, transform=transform)\n",
        "testloader = torch.utils.data.DataLoader(testset, batch_size=4,\n",
        "                                         shuffle=False, num_workers=2)\n",
        "\n",
        "classes = ('plane', 'car', 'bird', 'cat', 'deer', 'dog', 'frog', 'horse', 'ship', 'truck')\n",
        "\n",
        "\n",
        "# Definir criterio de pérdida y optimizador\n",
        "criterion = nn.CrossEntropyLoss()\n",
        "optimizer = optim.SGD(net.parameters(), lr=0.001, momentum=0.9)\n",
        "\n",
        "# Entrenamiento de la red\n",
        "for epoch in range(2):  # Cambiar a más épocas para un entrenamiento completo\n",
        "    running_loss = 0.0\n",
        "    for i, data in enumerate(trainloader, 0):\n",
        "        inputs, labels = data\n",
        "\n",
        "        optimizer.zero_grad()  # Poner a cero los gradientes del optimizador\n",
        "\n",
        "        outputs = net(inputs)  # Hacer una pasada hacia adelante\n",
        "        loss = criterion(outputs, labels)  # Calcular la pérdida\n",
        "        loss.backward()  # Hacer la pasada hacia atrás (retropropagación)\n",
        "        optimizer.step()  # Actualizar los pesos\n",
        "\n",
        "        running_loss += loss.item()\n",
        "        if i % 2000 == 1999:  # imprimir cada 2000 mini-lotes\n",
        "            print(f'[Epoch {epoch + 1}, Mini-lote {i + 1}] pérdida: {running_loss / 2000:.3f}')\n",
        "            running_loss = 0.0\n",
        "\n",
        "print('Entrenamiento terminado')\n",
        "\n",
        "# Guardar el modelo entrenado\n",
        "PATH = './cnn.pth'\n",
        "torch.save(net.state_dict(), PATH)\n",
        "\n",
        "# Evaluación del modelo\n",
        "correct = 0\n",
        "total = 0\n",
        "with torch.no_grad():\n",
        "    for data in testloader:\n",
        "        images, labels = data\n",
        "        outputs = net(images)\n",
        "        _, predicted = torch.max(outputs.data, 1)\n",
        "        total += labels.size(0)\n",
        "        correct += (predicted == labels).sum().item()\n",
        "\n",
        "print(f'Precisión en el conjunto de prueba: {100 * correct / total} %')"
      ]
    }
  ],
  "metadata": {
    "kernelspec": {
      "display_name": "Python [conda env:pytorch] *",
      "language": "python",
      "name": "conda-env-pytorch-py"
    },
    "language_info": {
      "codemirror_mode": {
        "name": "ipython",
        "version": 3
      },
      "file_extension": ".py",
      "mimetype": "text/x-python",
      "name": "python",
      "nbconvert_exporter": "python",
      "pygments_lexer": "ipython3",
      "version": "3.9.19"
    },
    "colab": {
      "provenance": []
    }
  },
  "nbformat": 4,
  "nbformat_minor": 5
}